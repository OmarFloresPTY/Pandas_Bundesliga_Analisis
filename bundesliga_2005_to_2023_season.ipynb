{
  "nbformat": 4,
  "nbformat_minor": 0,
  "metadata": {
    "colab": {
      "provenance": [],
      "mount_file_id": "1R27lBgSzz4YJCduBWB-cX0BV5WJgWwjf",
      "authorship_tag": "ABX9TyONV7bEo/NrxeA7xpc+D8AW",
      "include_colab_link": true
    },
    "kernelspec": {
      "name": "python3",
      "display_name": "Python 3"
    },
    "language_info": {
      "name": "python"
    }
  },
  "cells": [
    {
      "cell_type": "markdown",
      "metadata": {
        "id": "view-in-github",
        "colab_type": "text"
      },
      "source": [
        "<a href=\"https://colab.research.google.com/github/OmarFloresPTY/Pandas_Bundesliga_Analisis/blob/master/bundesliga_2005_to_2023_season.ipynb\" target=\"_parent\"><img src=\"https://colab.research.google.com/assets/colab-badge.svg\" alt=\"Open In Colab\"/></a>"
      ]
    },
    {
      "cell_type": "markdown",
      "source": [
        "# BUNDESLIGA - Primera división del Fútbol Alemán 🟡⚫🔴⚽\n",
        "<img src=\"https://is3-ssl.mzstatic.com/image/thumb/Purple126/v4/cc/b0/3b/ccb03bd7-1df2-9de0-7933-9fba47516663/AppIcon-0-1x_U007emarketing-0-7-0-85-220.png/1200x630wa.png\" width=600> <img src=\"https://phantom-marca.unidadeditorial.es/3c1a8c687eb23f3e15aa791fd27b8803/crop/66x47/2046x1160/resize/1200/f/webp/assets/multimedia/imagenes/2022/05/08/16520367037523.jpg\" width=600>"
      ],
      "metadata": {
        "id": "FlLfMaXX-MQq"
      }
    },
    {
      "cell_type": "code",
      "execution_count": 1,
      "metadata": {
        "id": "iWQPez3396-z"
      },
      "outputs": [],
      "source": [
        "import pandas as pd\n",
        "import numpy as np"
      ]
    }
  ]
}